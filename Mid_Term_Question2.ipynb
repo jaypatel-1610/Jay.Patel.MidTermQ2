{
 "cells": [
  {
   "cell_type": "raw",
   "id": "c6321a53-2d7f-4103-945d-ee3459ef54a2",
   "metadata": {},
   "source": [
    "In a jupyter notebook solve the following question using both python and SQL. Please upload the notebook to GitHub and provide the link submission box below.\n",
    "\n",
    "\n",
    "\n",
    "+---------------+---------+\n",
    "| Column Name   | Type    |\n",
    "+---------------+---------+\n",
    "| id            | int     |\n",
    "| recordDate    | date    |\n",
    "| temperature   | int     |\n",
    "+---------------+---------+\n",
    "id is the column with unique values for this table.\n",
    "This table contains information about the temperature on a certain day.\n",
    " \n",
    " \n",
    "\n",
    "Write a solution to find all dates' Id with higher temperatures compared to its previous dates (yesterday).\n",
    "\n",
    "Return the result table in any order.\n",
    "\n",
    "Please use the following input Weather table for your solution. To receive full marks you will need to create the database, create the table, insert the data below and execute the SQL query.\n",
    "\n",
    " "
   ]
  },
  {
   "cell_type": "code",
   "execution_count": 2,
   "id": "71b94881-515f-4b47-a4bf-caf8f1e3ae49",
   "metadata": {},
   "outputs": [],
   "source": [
    "import sqlite3"
   ]
  },
  {
   "cell_type": "code",
   "execution_count": 5,
   "id": "205bbbef-b373-4194-a2c6-ff166469407c",
   "metadata": {},
   "outputs": [],
   "source": [
    "from datetime import date\n",
    "from datetime import timedelta"
   ]
  },
  {
   "cell_type": "code",
   "execution_count": 20,
   "id": "56025caa-3d02-4445-b85f-fefcfd32897e",
   "metadata": {},
   "outputs": [],
   "source": [
    "weather_data = [\n",
    "    (1,'2015-01-01',10),\n",
    "    (2,'2015-01-02',25),\n",
    "    (3,'2015-01-03',20),\n",
    "    (4,'2015-01-04',30),\n",
    "]\n",
    "\n",
    "def database_setup():\n",
    "    conn = sqlite3.connect('weather_data.db')\n",
    "    cursor = conn.cursor()\n",
    "\n",
    "    cursor.execute(\n",
    "        ''' CREATE TABLE weather_table (\n",
    "          id  INTEGER PRIMARY KEY,\n",
    "          recordDate DATE,\n",
    "          temperature INTEGER\n",
    "        )'''\n",
    "    )\n",
    "    cursor.executemany('INSERT INTO Weather VALUES (?, ?, ?)', weather_data)\n",
    "    \n",
    "    conn.commit()\n",
    "    conn.close()\n",
    "    \n",
    "database_setup()"
   ]
  },
  {
   "cell_type": "code",
   "execution_count": 40,
   "id": "f9fc6d02-f73f-4527-85c2-da824fb81b86",
   "metadata": {},
   "outputs": [
    {
     "name": "stdout",
     "output_type": "stream",
     "text": [
      "+----+\n",
      "| id |\n",
      "+----+\n",
      "| 2  |\n",
      "| 4  |\n",
      "+----+\n"
     ]
    }
   ],
   "source": [
    "conn = sqlite3.connect('weather_data.db')\n",
    "cursor = conn.cursor()\n",
    "\n",
    "query = '''\n",
    "    SELECT weather1.id\n",
    "    FROM Weather weather1\n",
    "    JOIN Weather weather2 ON weather1.recordDate = date(weather2.recordDate, '+1 day')\n",
    "    WHERE weather1.temperature > weather2.temperature\n",
    "'''\n",
    "\n",
    "cursor.execute(query)\n",
    "fetched_results = cursor.fetchall()\n",
    "\n",
    "print(\"+----+\")\n",
    "print(\"| id |\")\n",
    "print(\"+----+\")\n",
    "for fetched_result in fetched_results:\n",
    "        print(f\"| {fetched_result[0]}  |\")\n",
    "print(\"+----+\")\n",
    "\n",
    "\n",
    "conn.close()\n"
   ]
  },
  {
   "cell_type": "code",
   "execution_count": null,
   "id": "17de092d-0ddd-4174-8176-0ce53ff028d6",
   "metadata": {},
   "outputs": [],
   "source": []
  }
 ],
 "metadata": {
  "kernelspec": {
   "display_name": "Python 3 (ipykernel)",
   "language": "python",
   "name": "python3"
  },
  "language_info": {
   "codemirror_mode": {
    "name": "ipython",
    "version": 3
   },
   "file_extension": ".py",
   "mimetype": "text/x-python",
   "name": "python",
   "nbconvert_exporter": "python",
   "pygments_lexer": "ipython3",
   "version": "3.12.3"
  }
 },
 "nbformat": 4,
 "nbformat_minor": 5
}
